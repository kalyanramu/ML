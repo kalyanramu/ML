{
 "cells": [
  {
   "cell_type": "markdown",
   "metadata": {},
   "source": [
    "### Read Data from Training Files"
   ]
  },
  {
   "cell_type": "code",
   "execution_count": 1,
   "metadata": {},
   "outputs": [],
   "source": [
    "#Kaggle Competition: https://www.kaggle.com/c/avito-demand-prediction/"
   ]
  },
  {
   "cell_type": "code",
   "execution_count": 1,
   "metadata": {},
   "outputs": [],
   "source": [
    "import numpy as np\n",
    "import pandas as pd\n",
    "from sklearn.ensemble import RandomForestRegressor\n",
    "\n",
    "from fastai.imports import *\n",
    "from fastai.structured import *"
   ]
  },
  {
   "cell_type": "code",
   "execution_count": 2,
   "metadata": {},
   "outputs": [],
   "source": [
    "PATH= 'dataset'"
   ]
  },
  {
   "cell_type": "code",
   "execution_count": 3,
   "metadata": {},
   "outputs": [],
   "source": [
    "###Run this code once to read from csv-> store feather and from then on use feather format as it loads fast\n",
    "#df_raw = pd.read_csv(f'{PATH}/train.csv',low_memory = False,parse_dates=['activation_date'])\n",
    "#os.makedirs('tmp',exist_ok=True)\n",
    "#df_raw.to_feather('tmp/df_raw')"
   ]
  },
  {
   "cell_type": "code",
   "execution_count": 4,
   "metadata": {},
   "outputs": [],
   "source": [
    "df_raw = pd.read_feather('tmp/df_raw')"
   ]
  },
  {
   "cell_type": "code",
   "execution_count": 5,
   "metadata": {},
   "outputs": [
    {
     "data": {
      "text/plain": [
       "Index(['item_id', 'user_id', 'region', 'city', 'parent_category_name',\n",
       "       'category_name', 'param_1', 'param_2', 'param_3', 'title',\n",
       "       'description', 'price', 'item_seq_number', 'activation_date',\n",
       "       'user_type', 'image', 'image_top_1', 'deal_probability'],\n",
       "      dtype='object')"
      ]
     },
     "execution_count": 5,
     "metadata": {},
     "output_type": "execute_result"
    }
   ],
   "source": [
    "df_raw.columns"
   ]
  },
  {
   "cell_type": "code",
   "execution_count": 6,
   "metadata": {},
   "outputs": [
    {
     "data": {
      "text/html": [
       "<div>\n",
       "<style scoped>\n",
       "    .dataframe tbody tr th:only-of-type {\n",
       "        vertical-align: middle;\n",
       "    }\n",
       "\n",
       "    .dataframe tbody tr th {\n",
       "        vertical-align: top;\n",
       "    }\n",
       "\n",
       "    .dataframe thead th {\n",
       "        text-align: right;\n",
       "    }\n",
       "</style>\n",
       "<table border=\"1\" class=\"dataframe\">\n",
       "  <thead>\n",
       "    <tr style=\"text-align: right;\">\n",
       "      <th></th>\n",
       "      <th>0</th>\n",
       "      <th>1</th>\n",
       "      <th>2</th>\n",
       "      <th>3</th>\n",
       "      <th>4</th>\n",
       "    </tr>\n",
       "  </thead>\n",
       "  <tbody>\n",
       "    <tr>\n",
       "      <th>item_id</th>\n",
       "      <td>b912c3c6a6ad</td>\n",
       "      <td>2dac0150717d</td>\n",
       "      <td>ba83aefab5dc</td>\n",
       "      <td>02996f1dd2ea</td>\n",
       "      <td>7c90be56d2ab</td>\n",
       "    </tr>\n",
       "    <tr>\n",
       "      <th>user_id</th>\n",
       "      <td>e00f8ff2eaf9</td>\n",
       "      <td>39aeb48f0017</td>\n",
       "      <td>91e2f88dd6e3</td>\n",
       "      <td>bf5cccea572d</td>\n",
       "      <td>ef50846afc0b</td>\n",
       "    </tr>\n",
       "    <tr>\n",
       "      <th>region</th>\n",
       "      <td>Свердловская область</td>\n",
       "      <td>Самарская область</td>\n",
       "      <td>Ростовская область</td>\n",
       "      <td>Татарстан</td>\n",
       "      <td>Волгоградская область</td>\n",
       "    </tr>\n",
       "    <tr>\n",
       "      <th>city</th>\n",
       "      <td>Екатеринбург</td>\n",
       "      <td>Самара</td>\n",
       "      <td>Ростов-на-Дону</td>\n",
       "      <td>Набережные Челны</td>\n",
       "      <td>Волгоград</td>\n",
       "    </tr>\n",
       "    <tr>\n",
       "      <th>parent_category_name</th>\n",
       "      <td>Личные вещи</td>\n",
       "      <td>Для дома и дачи</td>\n",
       "      <td>Бытовая электроника</td>\n",
       "      <td>Личные вещи</td>\n",
       "      <td>Транспорт</td>\n",
       "    </tr>\n",
       "    <tr>\n",
       "      <th>category_name</th>\n",
       "      <td>Товары для детей и игрушки</td>\n",
       "      <td>Мебель и интерьер</td>\n",
       "      <td>Аудио и видео</td>\n",
       "      <td>Товары для детей и игрушки</td>\n",
       "      <td>Автомобили</td>\n",
       "    </tr>\n",
       "    <tr>\n",
       "      <th>param_1</th>\n",
       "      <td>Постельные принадлежности</td>\n",
       "      <td>Другое</td>\n",
       "      <td>Видео, DVD и Blu-ray плееры</td>\n",
       "      <td>Автомобильные кресла</td>\n",
       "      <td>С пробегом</td>\n",
       "    </tr>\n",
       "    <tr>\n",
       "      <th>param_2</th>\n",
       "      <td>None</td>\n",
       "      <td>None</td>\n",
       "      <td>None</td>\n",
       "      <td>None</td>\n",
       "      <td>ВАЗ (LADA)</td>\n",
       "    </tr>\n",
       "    <tr>\n",
       "      <th>param_3</th>\n",
       "      <td>None</td>\n",
       "      <td>None</td>\n",
       "      <td>None</td>\n",
       "      <td>None</td>\n",
       "      <td>2110</td>\n",
       "    </tr>\n",
       "    <tr>\n",
       "      <th>title</th>\n",
       "      <td>Кокоби(кокон для сна)</td>\n",
       "      <td>Стойка для Одежды</td>\n",
       "      <td>Philips bluray</td>\n",
       "      <td>Автокресло</td>\n",
       "      <td>ВАЗ 2110, 2003</td>\n",
       "    </tr>\n",
       "    <tr>\n",
       "      <th>description</th>\n",
       "      <td>Кокон для сна малыша,пользовались меньше месяц...</td>\n",
       "      <td>Стойка для одежды, под вешалки. С бутика.</td>\n",
       "      <td>В хорошем состоянии, домашний кинотеатр с blu ...</td>\n",
       "      <td>Продам кресло от0-25кг</td>\n",
       "      <td>Все вопросы по телефону.</td>\n",
       "    </tr>\n",
       "    <tr>\n",
       "      <th>price</th>\n",
       "      <td>400</td>\n",
       "      <td>3000</td>\n",
       "      <td>4000</td>\n",
       "      <td>2200</td>\n",
       "      <td>40000</td>\n",
       "    </tr>\n",
       "    <tr>\n",
       "      <th>item_seq_number</th>\n",
       "      <td>2</td>\n",
       "      <td>19</td>\n",
       "      <td>9</td>\n",
       "      <td>286</td>\n",
       "      <td>3</td>\n",
       "    </tr>\n",
       "    <tr>\n",
       "      <th>activation_date</th>\n",
       "      <td>2017-03-28 00:00:00</td>\n",
       "      <td>2017-03-26 00:00:00</td>\n",
       "      <td>2017-03-20 00:00:00</td>\n",
       "      <td>2017-03-25 00:00:00</td>\n",
       "      <td>2017-03-16 00:00:00</td>\n",
       "    </tr>\n",
       "    <tr>\n",
       "      <th>user_type</th>\n",
       "      <td>Private</td>\n",
       "      <td>Private</td>\n",
       "      <td>Private</td>\n",
       "      <td>Company</td>\n",
       "      <td>Private</td>\n",
       "    </tr>\n",
       "    <tr>\n",
       "      <th>image</th>\n",
       "      <td>d10c7e016e03247a3bf2d13348fe959fe6f436c1caf64c...</td>\n",
       "      <td>79c9392cc51a9c81c6eb91eceb8e552171db39d7142700...</td>\n",
       "      <td>b7f250ee3f39e1fedd77c141f273703f4a9be59db4b48a...</td>\n",
       "      <td>e6ef97e0725637ea84e3d203e82dadb43ed3cc0a1c8413...</td>\n",
       "      <td>54a687a3a0fc1d68aed99bdaaf551c5c70b761b16fd0a2...</td>\n",
       "    </tr>\n",
       "    <tr>\n",
       "      <th>image_top_1</th>\n",
       "      <td>1008</td>\n",
       "      <td>692</td>\n",
       "      <td>3032</td>\n",
       "      <td>796</td>\n",
       "      <td>2264</td>\n",
       "    </tr>\n",
       "    <tr>\n",
       "      <th>deal_probability</th>\n",
       "      <td>0.12789</td>\n",
       "      <td>0</td>\n",
       "      <td>0.43177</td>\n",
       "      <td>0.80323</td>\n",
       "      <td>0.20797</td>\n",
       "    </tr>\n",
       "  </tbody>\n",
       "</table>\n",
       "</div>"
      ],
      "text/plain": [
       "                                                                      0  \\\n",
       "item_id                                                    b912c3c6a6ad   \n",
       "user_id                                                    e00f8ff2eaf9   \n",
       "region                                             Свердловская область   \n",
       "city                                                       Екатеринбург   \n",
       "parent_category_name                                        Личные вещи   \n",
       "category_name                                Товары для детей и игрушки   \n",
       "param_1                                       Постельные принадлежности   \n",
       "param_2                                                            None   \n",
       "param_3                                                            None   \n",
       "title                                             Кокоби(кокон для сна)   \n",
       "description           Кокон для сна малыша,пользовались меньше месяц...   \n",
       "price                                                               400   \n",
       "item_seq_number                                                       2   \n",
       "activation_date                                     2017-03-28 00:00:00   \n",
       "user_type                                                       Private   \n",
       "image                 d10c7e016e03247a3bf2d13348fe959fe6f436c1caf64c...   \n",
       "image_top_1                                                        1008   \n",
       "deal_probability                                                0.12789   \n",
       "\n",
       "                                                                      1  \\\n",
       "item_id                                                    2dac0150717d   \n",
       "user_id                                                    39aeb48f0017   \n",
       "region                                                Самарская область   \n",
       "city                                                             Самара   \n",
       "parent_category_name                                    Для дома и дачи   \n",
       "category_name                                         Мебель и интерьер   \n",
       "param_1                                                          Другое   \n",
       "param_2                                                            None   \n",
       "param_3                                                            None   \n",
       "title                                                 Стойка для Одежды   \n",
       "description                   Стойка для одежды, под вешалки. С бутика.   \n",
       "price                                                              3000   \n",
       "item_seq_number                                                      19   \n",
       "activation_date                                     2017-03-26 00:00:00   \n",
       "user_type                                                       Private   \n",
       "image                 79c9392cc51a9c81c6eb91eceb8e552171db39d7142700...   \n",
       "image_top_1                                                         692   \n",
       "deal_probability                                                      0   \n",
       "\n",
       "                                                                      2  \\\n",
       "item_id                                                    ba83aefab5dc   \n",
       "user_id                                                    91e2f88dd6e3   \n",
       "region                                               Ростовская область   \n",
       "city                                                     Ростов-на-Дону   \n",
       "parent_category_name                                Бытовая электроника   \n",
       "category_name                                             Аудио и видео   \n",
       "param_1                                     Видео, DVD и Blu-ray плееры   \n",
       "param_2                                                            None   \n",
       "param_3                                                            None   \n",
       "title                                                    Philips bluray   \n",
       "description           В хорошем состоянии, домашний кинотеатр с blu ...   \n",
       "price                                                              4000   \n",
       "item_seq_number                                                       9   \n",
       "activation_date                                     2017-03-20 00:00:00   \n",
       "user_type                                                       Private   \n",
       "image                 b7f250ee3f39e1fedd77c141f273703f4a9be59db4b48a...   \n",
       "image_top_1                                                        3032   \n",
       "deal_probability                                                0.43177   \n",
       "\n",
       "                                                                      3  \\\n",
       "item_id                                                    02996f1dd2ea   \n",
       "user_id                                                    bf5cccea572d   \n",
       "region                                                        Татарстан   \n",
       "city                                                   Набережные Челны   \n",
       "parent_category_name                                        Личные вещи   \n",
       "category_name                                Товары для детей и игрушки   \n",
       "param_1                                            Автомобильные кресла   \n",
       "param_2                                                            None   \n",
       "param_3                                                            None   \n",
       "title                                                        Автокресло   \n",
       "description                                      Продам кресло от0-25кг   \n",
       "price                                                              2200   \n",
       "item_seq_number                                                     286   \n",
       "activation_date                                     2017-03-25 00:00:00   \n",
       "user_type                                                       Company   \n",
       "image                 e6ef97e0725637ea84e3d203e82dadb43ed3cc0a1c8413...   \n",
       "image_top_1                                                         796   \n",
       "deal_probability                                                0.80323   \n",
       "\n",
       "                                                                      4  \n",
       "item_id                                                    7c90be56d2ab  \n",
       "user_id                                                    ef50846afc0b  \n",
       "region                                            Волгоградская область  \n",
       "city                                                          Волгоград  \n",
       "parent_category_name                                          Транспорт  \n",
       "category_name                                                Автомобили  \n",
       "param_1                                                      С пробегом  \n",
       "param_2                                                      ВАЗ (LADA)  \n",
       "param_3                                                            2110  \n",
       "title                                                    ВАЗ 2110, 2003  \n",
       "description                                    Все вопросы по телефону.  \n",
       "price                                                             40000  \n",
       "item_seq_number                                                       3  \n",
       "activation_date                                     2017-03-16 00:00:00  \n",
       "user_type                                                       Private  \n",
       "image                 54a687a3a0fc1d68aed99bdaaf551c5c70b761b16fd0a2...  \n",
       "image_top_1                                                        2264  \n",
       "deal_probability                                                0.20797  "
      ]
     },
     "execution_count": 6,
     "metadata": {},
     "output_type": "execute_result"
    }
   ],
   "source": [
    "df_raw.head().transpose()"
   ]
  },
  {
   "cell_type": "code",
   "execution_count": 7,
   "metadata": {},
   "outputs": [
    {
     "name": "stdout",
     "output_type": "stream",
     "text": [
      "<class 'pandas.core.frame.DataFrame'>\n",
      "RangeIndex: 1503424 entries, 0 to 1503423\n",
      "Data columns (total 18 columns):\n",
      "item_id                 1503424 non-null object\n",
      "user_id                 1503424 non-null object\n",
      "region                  1503424 non-null object\n",
      "city                    1503424 non-null object\n",
      "parent_category_name    1503424 non-null object\n",
      "category_name           1503424 non-null object\n",
      "param_1                 1441848 non-null object\n",
      "param_2                 848882 non-null object\n",
      "param_3                 640859 non-null object\n",
      "title                   1503424 non-null object\n",
      "description             1387148 non-null object\n",
      "price                   1418062 non-null float64\n",
      "item_seq_number         1503424 non-null int64\n",
      "activation_date         1503424 non-null datetime64[ns]\n",
      "user_type               1503424 non-null object\n",
      "image                   1390836 non-null object\n",
      "image_top_1             1390836 non-null float64\n",
      "deal_probability        1503424 non-null float64\n",
      "dtypes: datetime64[ns](1), float64(3), int64(1), object(13)\n",
      "memory usage: 206.5+ MB\n"
     ]
    }
   ],
   "source": [
    "df_raw.info()"
   ]
  },
  {
   "cell_type": "code",
   "execution_count": 26,
   "metadata": {},
   "outputs": [],
   "source": [
    "### df_raw.columns: Investigate columns of the data"
   ]
  },
  {
   "cell_type": "markdown",
   "metadata": {},
   "source": [
    "### Step 1: Split Date Time into useful colums such as week etc.,"
   ]
  },
  {
   "cell_type": "code",
   "execution_count": 8,
   "metadata": {},
   "outputs": [],
   "source": [
    "add_datepart(df_raw,'activation_date')"
   ]
  },
  {
   "cell_type": "code",
   "execution_count": 9,
   "metadata": {},
   "outputs": [],
   "source": [
    "###df_raw.columns :: Investigate newly added cells"
   ]
  },
  {
   "cell_type": "markdown",
   "metadata": {},
   "source": [
    "### Step 2: Convert String to Categorical Data Types in pandas"
   ]
  },
  {
   "cell_type": "code",
   "execution_count": 10,
   "metadata": {},
   "outputs": [],
   "source": [
    "train_cats(df_raw)"
   ]
  },
  {
   "cell_type": "code",
   "execution_count": 11,
   "metadata": {},
   "outputs": [
    {
     "name": "stdout",
     "output_type": "stream",
     "text": [
      "<class 'pandas.core.frame.DataFrame'>\n",
      "RangeIndex: 1503424 entries, 0 to 1503423\n",
      "Data columns (total 30 columns):\n",
      "item_id                        1503424 non-null category\n",
      "user_id                        1503424 non-null category\n",
      "region                         1503424 non-null category\n",
      "city                           1503424 non-null category\n",
      "parent_category_name           1503424 non-null category\n",
      "category_name                  1503424 non-null category\n",
      "param_1                        1441848 non-null category\n",
      "param_2                        848882 non-null category\n",
      "param_3                        640859 non-null category\n",
      "title                          1503424 non-null category\n",
      "description                    1387148 non-null category\n",
      "price                          1418062 non-null float64\n",
      "item_seq_number                1503424 non-null int64\n",
      "user_type                      1503424 non-null category\n",
      "image                          1390836 non-null category\n",
      "image_top_1                    1390836 non-null float64\n",
      "deal_probability               1503424 non-null float64\n",
      "activation_Year                1503424 non-null int64\n",
      "activation_Month               1503424 non-null int64\n",
      "activation_Week                1503424 non-null int64\n",
      "activation_Day                 1503424 non-null int64\n",
      "activation_Dayofweek           1503424 non-null int64\n",
      "activation_Dayofyear           1503424 non-null int64\n",
      "activation_Is_month_end        1503424 non-null bool\n",
      "activation_Is_month_start      1503424 non-null bool\n",
      "activation_Is_quarter_end      1503424 non-null bool\n",
      "activation_Is_quarter_start    1503424 non-null bool\n",
      "activation_Is_year_end         1503424 non-null bool\n",
      "activation_Is_year_start       1503424 non-null bool\n",
      "activation_Elapsed             1503424 non-null int64\n",
      "dtypes: bool(6), category(13), float64(3), int64(8)\n",
      "memory usage: 384.9 MB\n"
     ]
    }
   ],
   "source": [
    "df_raw.info()"
   ]
  },
  {
   "cell_type": "code",
   "execution_count": 12,
   "metadata": {},
   "outputs": [
    {
     "data": {
      "text/plain": [
       "Index(['ASUS', 'Acer', 'Alcatel', 'BQ', 'BlackBerry', 'DEXP', 'Explay', 'Fly',\n",
       "       'HTC', 'Highscreen',\n",
       "       ...\n",
       "       'Шпиц', 'Экзотическая', 'Экскаваторы', 'Электронные книги',\n",
       "       'Эрдельтерьер', 'Этикетки, бутылки, пробки', 'Ювелирные изделия',\n",
       "       'Ягдтерьер', 'Японский бобтейл', 'Японский хин'],\n",
       "      dtype='object', length=371)"
      ]
     },
     "execution_count": 12,
     "metadata": {},
     "output_type": "execute_result"
    }
   ],
   "source": [
    "df_raw.param_1.cat.categories"
   ]
  },
  {
   "cell_type": "markdown",
   "metadata": {},
   "source": [
    "### Step 3: Fill Null Values"
   ]
  },
  {
   "cell_type": "code",
   "execution_count": 33,
   "metadata": {},
   "outputs": [],
   "source": [
    "#Get Null Value Statistics\n",
    "#df_raw.info()\n",
    "#(df_raw.isnull().sum().sort_index())/len(df_raw)"
   ]
  },
  {
   "cell_type": "code",
   "execution_count": null,
   "metadata": {},
   "outputs": [],
   "source": [
    "# Pandas automatically fills na for categories with -1\n",
    "# We can add 1 to numeric codes so that 0 can represent missing values"
   ]
  },
  {
   "cell_type": "code",
   "execution_count": 41,
   "metadata": {},
   "outputs": [],
   "source": [
    "#Fix Missing: replace numeric columns with median and create a seperate table with _na (boolean indicating missing)"
   ]
  },
  {
   "cell_type": "code",
   "execution_count": 13,
   "metadata": {},
   "outputs": [],
   "source": [
    "df,y,na_dict =proc_df(df_raw,'deal_probability')"
   ]
  },
  {
   "cell_type": "code",
   "execution_count": 14,
   "metadata": {},
   "outputs": [
    {
     "data": {
      "text/plain": [
       "Index(['item_id', 'user_id', 'region', 'city', 'parent_category_name',\n",
       "       'category_name', 'param_1', 'param_2', 'param_3', 'title',\n",
       "       'description', 'price', 'item_seq_number', 'user_type', 'image',\n",
       "       'image_top_1', 'activation_Year', 'activation_Month', 'activation_Week',\n",
       "       'activation_Day', 'activation_Dayofweek', 'activation_Dayofyear',\n",
       "       'activation_Is_month_end', 'activation_Is_month_start',\n",
       "       'activation_Is_quarter_end', 'activation_Is_quarter_start',\n",
       "       'activation_Is_year_end', 'activation_Is_year_start',\n",
       "       'activation_Elapsed', 'price_na', 'image_top_1_na'],\n",
       "      dtype='object')"
      ]
     },
     "execution_count": 14,
     "metadata": {},
     "output_type": "execute_result"
    }
   ],
   "source": [
    "df.columns #This add two new columns with _na for numerical coumns"
   ]
  },
  {
   "cell_type": "markdown",
   "metadata": {},
   "source": [
    "## Fitting the model"
   ]
  },
  {
   "cell_type": "markdown",
   "metadata": {},
   "source": [
    "### Step 4: Split and Train the Model"
   ]
  },
  {
   "cell_type": "code",
   "execution_count": 15,
   "metadata": {},
   "outputs": [],
   "source": [
    "#Split the data into train and validation"
   ]
  },
  {
   "cell_type": "code",
   "execution_count": 16,
   "metadata": {},
   "outputs": [],
   "source": [
    "def split_vals(a,n): return a[:n].copy(), a[n:].copy()"
   ]
  },
  {
   "cell_type": "code",
   "execution_count": 18,
   "metadata": {},
   "outputs": [
    {
     "data": {
      "text/plain": [
       "((1202740, 31), (1202740,), (300684, 31), (300684,))"
      ]
     },
     "execution_count": 18,
     "metadata": {},
     "output_type": "execute_result"
    }
   ],
   "source": [
    "n_valid = int(0.2*len(df)) # same as Kaggle's test set size\n",
    "n_trn = len(df) - n_valid\n",
    "raw_train, raw_valid = split_vals(df_raw,n_trn)\n",
    "X_train, X_valid = split_vals(df,n_trn)\n",
    "y_train, y_valid = split_vals(y ,n_trn)\n",
    "\n",
    "X_train.shape, y_train.shape, X_valid.shape,y_valid.shape"
   ]
  },
  {
   "cell_type": "markdown",
   "metadata": {},
   "source": [
    "### Step 5:Train the Model"
   ]
  },
  {
   "cell_type": "code",
   "execution_count": 19,
   "metadata": {},
   "outputs": [],
   "source": [
    "def rmse(x,y): return math.sqrt(((x-y)**2).mean())"
   ]
  },
  {
   "cell_type": "code",
   "execution_count": 20,
   "metadata": {},
   "outputs": [],
   "source": [
    "def prettyprint_score(m):\n",
    "    res = {'train_error':rmse(m.predict(X_train),y_train), 'valid_error':rmse(m.predict(X_valid),y_valid), \n",
    "           'train_acc': m.score(X_train,y_train),'valid_acc':m.score(X_valid,y_valid)}\n",
    "    if hasattr(m,'oob_score_'): res['oob_score']=(m.oob_score_)\n",
    "    print(res)"
   ]
  },
  {
   "cell_type": "code",
   "execution_count": 21,
   "metadata": {},
   "outputs": [
    {
     "name": "stdout",
     "output_type": "stream",
     "text": [
      "CPU times: user 8min 52s, sys: 516 ms, total: 8min 53s\n",
      "Wall time: 3min 6s\n"
     ]
    },
    {
     "data": {
      "text/plain": [
       "RandomForestRegressor(bootstrap=True, criterion='mse', max_depth=None,\n",
       "           max_features='auto', max_leaf_nodes=None,\n",
       "           min_impurity_decrease=0.0, min_impurity_split=None,\n",
       "           min_samples_leaf=1, min_samples_split=2,\n",
       "           min_weight_fraction_leaf=0.0, n_estimators=10, n_jobs=-1,\n",
       "           oob_score=False, random_state=None, verbose=0, warm_start=False)"
      ]
     },
     "execution_count": 21,
     "metadata": {},
     "output_type": "execute_result"
    }
   ],
   "source": [
    "m = RandomForestRegressor(n_jobs=-1)\n",
    "%time m.fit(X_train,y_train)"
   ]
  },
  {
   "cell_type": "markdown",
   "metadata": {},
   "source": [
    "### Step 6: Get Accuracy of the Model"
   ]
  },
  {
   "cell_type": "code",
   "execution_count": 22,
   "metadata": {},
   "outputs": [
    {
     "name": "stdout",
     "output_type": "stream",
     "text": [
      "{'train_error': 0.10139743538441366, 'valid_error': 0.23963856093369665, 'train_acc': 0.8478775525692439, 'valid_acc': 0.15371757497114424}\n"
     ]
    }
   ],
   "source": [
    "prettyprint_score(m)"
   ]
  },
  {
   "cell_type": "code",
   "execution_count": null,
   "metadata": {},
   "outputs": [],
   "source": []
  }
 ],
 "metadata": {
  "kernelspec": {
   "display_name": "Python 3",
   "language": "python",
   "name": "python3"
  },
  "language_info": {
   "codemirror_mode": {
    "name": "ipython",
    "version": 3
   },
   "file_extension": ".py",
   "mimetype": "text/x-python",
   "name": "python",
   "nbconvert_exporter": "python",
   "pygments_lexer": "ipython3",
   "version": "3.6.5"
  }
 },
 "nbformat": 4,
 "nbformat_minor": 2
}
